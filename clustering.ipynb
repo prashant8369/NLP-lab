{
 "cells": [
  {
   "cell_type": "code",
   "execution_count": 1,
   "id": "c830d05b",
   "metadata": {},
   "outputs": [
    {
     "name": "stderr",
     "output_type": "stream",
     "text": [
      "C:\\Users\\LENOVO\\anaconda3\\lib\\site-packages\\pandas\\core\\computation\\expressions.py:21: UserWarning: Pandas requires version '2.8.4' or newer of 'numexpr' (version '2.8.1' currently installed).\n",
      "  from pandas.core.computation.check import NUMEXPR_INSTALLED\n",
      "C:\\Users\\LENOVO\\anaconda3\\lib\\site-packages\\pandas\\core\\arrays\\masked.py:60: UserWarning: Pandas requires version '1.3.6' or newer of 'bottleneck' (version '1.3.4' currently installed).\n",
      "  from pandas.core import (\n"
     ]
    }
   ],
   "source": [
    "import numpy as np\n",
    "import pandas as pd\n",
    "from sklearn.feature_extraction.text import TfidfVectorizer\n",
    "from sklearn.cluster import KMeans, DBSCAN\n",
    "from sklearn.preprocessing import StandardScaler\n",
    "from scipy.cluster.hierarchy import dendrogram, linkage, fcluster\n",
    "import matplotlib.pyplot as plt"
   ]
  },
  {
   "cell_type": "code",
   "execution_count": 2,
   "id": "f9a9c289",
   "metadata": {},
   "outputs": [],
   "source": [
    "documents = [\n",
    "    \"Machine learning is a field of artificial intelligence.\",\n",
    "    \"Natural language processing involves understanding text.\",\n",
    "    \"Deep learning models are used for image recognition.\",\n",
    "    \"AI technologies include machine learning and neural networks.\",\n",
    "    \"Text classification is a part of NLP.\",\n",
    "    \"Neural networks can learn patterns in data.\",\n",
    "]\n",
    "\n",
    "# Convert documents to TF-IDF matrix\n",
    "vectorizer = TfidfVectorizer(stop_words='english')\n",
    "X = vectorizer.fit_transform(documents)"
   ]
  },
  {
   "cell_type": "code",
   "execution_count": 3,
   "id": "19bc207c",
   "metadata": {},
   "outputs": [
    {
     "name": "stdout",
     "output_type": "stream",
     "text": [
      "K-Means Labels: [0 0 0 1 0 1]\n"
     ]
    }
   ],
   "source": [
    "# K-Means clustering\n",
    "kmeans = KMeans(n_clusters=2, random_state=42)\n",
    "kmeans_labels = kmeans.fit_predict(X)\n",
    "\n",
    "# Print results\n",
    "print(\"K-Means Labels:\", kmeans_labels)"
   ]
  },
  {
   "cell_type": "code",
   "execution_count": 4,
   "id": "86852236",
   "metadata": {},
   "outputs": [
    {
     "data": {
      "image/png": "[encoded data removed]",
      "text/plain": [
       "<Figure size 360x216 with 1 Axes>"
      ]
     },
     "metadata": {
      "needs_background": "light"
     },
     "output_type": "display_data"
    },
    {
     "name": "stdout",
     "output_type": "stream",
     "text": [
      "Hierarchical Clustering Labels: [2 1 2 2 1 2]\n"
     ]
    }
   ],
   "source": [
    "# Hierarchical clustering\n",
    "linked = linkage(X.toarray(), 'ward')\n",
    "plt.figure(figsize=(5, 3))\n",
    "dendrogram(linked, orientation='top', distance_sort='descending', show_leaf_counts=True)\n",
    "plt.title('Hierarchical Clustering Dendrogram')\n",
    "plt.show()\n",
    "\n",
    "# Cut the dendrogram to form flat clusters\n",
    "hierarchical_labels = fcluster(linked, t=2, criterion='maxclust')\n",
    "print(\"Hierarchical Clustering Labels:\", hierarchical_labels)"
   ]
  },
  {
   "cell_type": "code",
   "execution_count": 5,
   "id": "a8f82acb",
   "metadata": {},
   "outputs": [
    {
     "name": "stdout",
     "output_type": "stream",
     "text": [
      "DBSCAN Labels: [-1 -1 -1 -1 -1 -1]\n"
     ]
    }
   ],
   "source": [
    "# Standardize the features\n",
    "scaler = StandardScaler(with_mean=False)\n",
    "X_scaled = scaler.fit_transform(X.toarray())\n",
    "\n",
    "# DBSCAN clustering\n",
    "dbscan = DBSCAN(eps=0.5, min_samples=2)\n",
    "dbscan_labels = dbscan.fit_predict(X_scaled)\n",
    "\n",
    "# Print results\n",
    "print(\"DBSCAN Labels:\", dbscan_labels)"
   ]
  },
  {
   "cell_type": "code",
   "execution_count": null,
   "id": "d5480d7b",
   "metadata": {},
   "outputs": [],
   "source": []
  }
 ],
 "metadata": {
  "kernelspec": {
   "display_name": "Python 3 (ipykernel)",
   "language": "python",
   "name": "python3"
  },
  "language_info": {
   "codemirror_mode": {
    "name": "ipython",
    "version": 3
   },
   "file_extension": ".py",
   "mimetype": "text/x-python",
   "name": "python",
   "nbconvert_exporter": "python",
   "pygments_lexer": "ipython3",
   "version": "3.9.12"
  }
 },
 "nbformat": 4,
 "nbformat_minor": 5
}
